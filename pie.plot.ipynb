{
 "cells": [
  {
   "cell_type": "markdown",
   "metadata": {},
   "source": [
    "Import libraries"
   ]
  },
  {
   "cell_type": "code",
   "execution_count": 55,
   "metadata": {},
   "outputs": [],
   "source": [
    "import matplotlib.pyplot as plt\n",
    "import numpy as np\n",
    "import pandas as pd"
   ]
  },
  {
   "cell_type": "markdown",
   "metadata": {},
   "source": [
    "Import data"
   ]
  },
  {
   "cell_type": "code",
   "execution_count": 56,
   "metadata": {},
   "outputs": [
    {
     "data": {
      "text/html": [
       "<div>\n",
       "<style scoped>\n",
       "    .dataframe tbody tr th:only-of-type {\n",
       "        vertical-align: middle;\n",
       "    }\n",
       "\n",
       "    .dataframe tbody tr th {\n",
       "        vertical-align: top;\n",
       "    }\n",
       "\n",
       "    .dataframe thead th {\n",
       "        text-align: right;\n",
       "    }\n",
       "</style>\n",
       "<table border=\"1\" class=\"dataframe\">\n",
       "  <thead>\n",
       "    <tr style=\"text-align: right;\">\n",
       "      <th></th>\n",
       "      <th>date</th>\n",
       "      <th>home</th>\n",
       "      <th>shopping</th>\n",
       "      <th>trips</th>\n",
       "      <th>payments</th>\n",
       "      <th>health &amp; beauty</th>\n",
       "      <th>transport</th>\n",
       "      <th>leisure</th>\n",
       "    </tr>\n",
       "  </thead>\n",
       "  <tbody>\n",
       "    <tr>\n",
       "      <th>0</th>\n",
       "      <td>2024-04</td>\n",
       "      <td>724.21</td>\n",
       "      <td>310.78</td>\n",
       "      <td>271.8</td>\n",
       "      <td>143.50</td>\n",
       "      <td>69.00</td>\n",
       "      <td>59.98</td>\n",
       "      <td>52.20</td>\n",
       "    </tr>\n",
       "    <tr>\n",
       "      <th>1</th>\n",
       "      <td>2024-03</td>\n",
       "      <td>762.41</td>\n",
       "      <td>359.88</td>\n",
       "      <td>0.0</td>\n",
       "      <td>361.00</td>\n",
       "      <td>118.28</td>\n",
       "      <td>54.40</td>\n",
       "      <td>155.10</td>\n",
       "    </tr>\n",
       "    <tr>\n",
       "      <th>2</th>\n",
       "      <td>2024-02</td>\n",
       "      <td>1410.00</td>\n",
       "      <td>297.46</td>\n",
       "      <td>0.0</td>\n",
       "      <td>91.69</td>\n",
       "      <td>119.68</td>\n",
       "      <td>45.40</td>\n",
       "      <td>65.23</td>\n",
       "    </tr>\n",
       "  </tbody>\n",
       "</table>\n",
       "</div>"
      ],
      "text/plain": [
       "      date     home   shopping   trips   payments   health & beauty  \\\n",
       "0  2024-04   724.21     310.78   271.8     143.50             69.00   \n",
       "1  2024-03   762.41     359.88     0.0     361.00            118.28   \n",
       "2  2024-02  1410.00     297.46     0.0      91.69            119.68   \n",
       "\n",
       "    transport   leisure  \n",
       "0       59.98     52.20  \n",
       "1       54.40    155.10  \n",
       "2       45.40     65.23  "
      ]
     },
     "execution_count": 56,
     "metadata": {},
     "output_type": "execute_result"
    }
   ],
   "source": [
    "df = pd.read_csv(\"expenses.txt\", sep=\",\", header=0)\n",
    "df"
   ]
  },
  {
   "cell_type": "markdown",
   "metadata": {},
   "source": [
    "Sum of trimester expenses"
   ]
  },
  {
   "cell_type": "code",
   "execution_count": 57,
   "metadata": {},
   "outputs": [
    {
     "data": {
      "text/plain": [
       " home               2896.62\n",
       " shopping            968.12\n",
       " trips               271.80\n",
       " payments            596.19\n",
       " health & beauty     306.96\n",
       " transport           159.78\n",
       "dtype: float64"
      ]
     },
     "execution_count": 57,
     "metadata": {},
     "output_type": "execute_result"
    }
   ],
   "source": [
    "trm = df.iloc[:, 1:-1].sum()\n",
    "trm"
   ]
  },
  {
   "cell_type": "markdown",
   "metadata": {},
   "source": [
    "Sum of all monthly expenses"
   ]
  },
  {
   "cell_type": "code",
   "execution_count": 58,
   "metadata": {},
   "outputs": [],
   "source": [
    "monthly = df.transpose()\n",
    "monthly.columns = monthly.iloc[0]\n",
    "sum_array = monthly.iloc[1:-1].sum()\n",
    "sumatory = pd.DataFrame(data=sum_array)\n",
    "convertido = sumatory.reset_index()\n",
    "convertido.columns = [\"date\", \"sum\"]"
   ]
  },
  {
   "cell_type": "markdown",
   "metadata": {},
   "source": [
    "Percentage calculation"
   ]
  },
  {
   "cell_type": "code",
   "execution_count": 59,
   "metadata": {},
   "outputs": [
    {
     "data": {
      "text/html": [
       "<div>\n",
       "<style scoped>\n",
       "    .dataframe tbody tr th:only-of-type {\n",
       "        vertical-align: middle;\n",
       "    }\n",
       "\n",
       "    .dataframe tbody tr th {\n",
       "        vertical-align: top;\n",
       "    }\n",
       "\n",
       "    .dataframe thead th {\n",
       "        text-align: right;\n",
       "    }\n",
       "</style>\n",
       "<table border=\"1\" class=\"dataframe\">\n",
       "  <thead>\n",
       "    <tr style=\"text-align: right;\">\n",
       "      <th></th>\n",
       "      <th>date</th>\n",
       "      <th>home</th>\n",
       "      <th>shopping</th>\n",
       "      <th>trips</th>\n",
       "      <th>payments</th>\n",
       "      <th>health &amp; beauty</th>\n",
       "      <th>transport</th>\n",
       "      <th>leisure</th>\n",
       "      <th>sum</th>\n",
       "    </tr>\n",
       "  </thead>\n",
       "  <tbody>\n",
       "    <tr>\n",
       "      <th>0</th>\n",
       "      <td>2024-04</td>\n",
       "      <td>724.21</td>\n",
       "      <td>310.78</td>\n",
       "      <td>271.8</td>\n",
       "      <td>143.50</td>\n",
       "      <td>69.00</td>\n",
       "      <td>59.98</td>\n",
       "      <td>52.20</td>\n",
       "      <td>1579.27</td>\n",
       "    </tr>\n",
       "    <tr>\n",
       "      <th>1</th>\n",
       "      <td>2024-03</td>\n",
       "      <td>762.41</td>\n",
       "      <td>359.88</td>\n",
       "      <td>0.0</td>\n",
       "      <td>361.00</td>\n",
       "      <td>118.28</td>\n",
       "      <td>54.40</td>\n",
       "      <td>155.10</td>\n",
       "      <td>1655.97</td>\n",
       "    </tr>\n",
       "    <tr>\n",
       "      <th>2</th>\n",
       "      <td>2024-02</td>\n",
       "      <td>1410.00</td>\n",
       "      <td>297.46</td>\n",
       "      <td>0.0</td>\n",
       "      <td>91.69</td>\n",
       "      <td>119.68</td>\n",
       "      <td>45.40</td>\n",
       "      <td>65.23</td>\n",
       "      <td>1964.23</td>\n",
       "    </tr>\n",
       "  </tbody>\n",
       "</table>\n",
       "</div>"
      ],
      "text/plain": [
       "      date     home   shopping   trips   payments   health & beauty  \\\n",
       "0  2024-04   724.21     310.78   271.8     143.50             69.00   \n",
       "1  2024-03   762.41     359.88     0.0     361.00            118.28   \n",
       "2  2024-02  1410.00     297.46     0.0      91.69            119.68   \n",
       "\n",
       "    transport   leisure      sum  \n",
       "0       59.98     52.20  1579.27  \n",
       "1       54.40    155.10  1655.97  \n",
       "2       45.40     65.23  1964.23  "
      ]
     },
     "execution_count": 59,
     "metadata": {},
     "output_type": "execute_result"
    }
   ],
   "source": [
    "df[\"sum\"] = convertido[\"sum\"]\n",
    "df"
   ]
  },
  {
   "cell_type": "code",
   "execution_count": 60,
   "metadata": {},
   "outputs": [
    {
     "data": {
      "text/html": [
       "<div>\n",
       "<style scoped>\n",
       "    .dataframe tbody tr th:only-of-type {\n",
       "        vertical-align: middle;\n",
       "    }\n",
       "\n",
       "    .dataframe tbody tr th {\n",
       "        vertical-align: top;\n",
       "    }\n",
       "\n",
       "    .dataframe thead th {\n",
       "        text-align: right;\n",
       "    }\n",
       "</style>\n",
       "<table border=\"1\" class=\"dataframe\">\n",
       "  <thead>\n",
       "    <tr style=\"text-align: right;\">\n",
       "      <th></th>\n",
       "      <th>home</th>\n",
       "      <th>shopping</th>\n",
       "      <th>trips</th>\n",
       "      <th>payments</th>\n",
       "      <th>health &amp; beauty</th>\n",
       "      <th>transport</th>\n",
       "      <th>leisure</th>\n",
       "      <th>sum</th>\n",
       "    </tr>\n",
       "  </thead>\n",
       "  <tbody>\n",
       "    <tr>\n",
       "      <th>0</th>\n",
       "      <td>0.458573</td>\n",
       "      <td>0.196787</td>\n",
       "      <td>0.172105</td>\n",
       "      <td>0.090865</td>\n",
       "      <td>0.043691</td>\n",
       "      <td>0.03798</td>\n",
       "      <td>0.033053</td>\n",
       "      <td>1.0</td>\n",
       "    </tr>\n",
       "    <tr>\n",
       "      <th>1</th>\n",
       "      <td>0.460401</td>\n",
       "      <td>0.217323</td>\n",
       "      <td>0.0</td>\n",
       "      <td>0.217999</td>\n",
       "      <td>0.071426</td>\n",
       "      <td>0.032851</td>\n",
       "      <td>0.093661</td>\n",
       "      <td>1.0</td>\n",
       "    </tr>\n",
       "    <tr>\n",
       "      <th>2</th>\n",
       "      <td>0.717839</td>\n",
       "      <td>0.151438</td>\n",
       "      <td>0.0</td>\n",
       "      <td>0.04668</td>\n",
       "      <td>0.06093</td>\n",
       "      <td>0.023113</td>\n",
       "      <td>0.033209</td>\n",
       "      <td>1.0</td>\n",
       "    </tr>\n",
       "  </tbody>\n",
       "</table>\n",
       "</div>"
      ],
      "text/plain": [
       "       home  shopping     trips  payments  health & beauty  transport  \\\n",
       "0  0.458573  0.196787  0.172105  0.090865         0.043691    0.03798   \n",
       "1  0.460401  0.217323       0.0  0.217999         0.071426   0.032851   \n",
       "2  0.717839  0.151438       0.0   0.04668          0.06093   0.023113   \n",
       "\n",
       "    leisure  sum  \n",
       "0  0.033053  1.0  \n",
       "1  0.093661  1.0  \n",
       "2  0.033209  1.0  "
      ]
     },
     "execution_count": 60,
     "metadata": {},
     "output_type": "execute_result"
    }
   ],
   "source": [
    "resultado = df.iloc[:,1:].div(df[\"sum\"], axis=0)\n",
    "resultado\n"
   ]
  },
  {
   "cell_type": "code",
   "execution_count": 61,
   "metadata": {},
   "outputs": [
    {
     "data": {
      "text/html": [
       "<div>\n",
       "<style scoped>\n",
       "    .dataframe tbody tr th:only-of-type {\n",
       "        vertical-align: middle;\n",
       "    }\n",
       "\n",
       "    .dataframe tbody tr th {\n",
       "        vertical-align: top;\n",
       "    }\n",
       "\n",
       "    .dataframe thead th {\n",
       "        text-align: right;\n",
       "    }\n",
       "</style>\n",
       "<table border=\"1\" class=\"dataframe\">\n",
       "  <thead>\n",
       "    <tr style=\"text-align: right;\">\n",
       "      <th></th>\n",
       "      <th>home</th>\n",
       "      <th>shopping</th>\n",
       "      <th>trips</th>\n",
       "      <th>payments</th>\n",
       "      <th>health &amp; beauty</th>\n",
       "      <th>transport</th>\n",
       "      <th>leisure</th>\n",
       "      <th>sum</th>\n",
       "    </tr>\n",
       "  </thead>\n",
       "  <tbody>\n",
       "    <tr>\n",
       "      <th>0</th>\n",
       "      <td>45.857263</td>\n",
       "      <td>19.678712</td>\n",
       "      <td>17.210483</td>\n",
       "      <td>9.086477</td>\n",
       "      <td>4.369107</td>\n",
       "      <td>3.797957</td>\n",
       "      <td>3.305325</td>\n",
       "      <td>100.0</td>\n",
       "    </tr>\n",
       "    <tr>\n",
       "      <th>1</th>\n",
       "      <td>46.040085</td>\n",
       "      <td>21.732278</td>\n",
       "      <td>0.0</td>\n",
       "      <td>21.799912</td>\n",
       "      <td>7.142641</td>\n",
       "      <td>3.285084</td>\n",
       "      <td>9.366112</td>\n",
       "      <td>100.0</td>\n",
       "    </tr>\n",
       "    <tr>\n",
       "      <th>2</th>\n",
       "      <td>71.783854</td>\n",
       "      <td>15.143848</td>\n",
       "      <td>0.0</td>\n",
       "      <td>4.667987</td>\n",
       "      <td>6.092973</td>\n",
       "      <td>2.311338</td>\n",
       "      <td>3.320894</td>\n",
       "      <td>100.0</td>\n",
       "    </tr>\n",
       "  </tbody>\n",
       "</table>\n",
       "</div>"
      ],
      "text/plain": [
       "        home   shopping      trips   payments  health & beauty  transport  \\\n",
       "0  45.857263  19.678712  17.210483   9.086477         4.369107   3.797957   \n",
       "1  46.040085  21.732278        0.0  21.799912         7.142641   3.285084   \n",
       "2  71.783854  15.143848        0.0   4.667987         6.092973   2.311338   \n",
       "\n",
       "    leisure    sum  \n",
       "0  3.305325  100.0  \n",
       "1  9.366112  100.0  \n",
       "2  3.320894  100.0  "
      ]
     },
     "execution_count": 61,
     "metadata": {},
     "output_type": "execute_result"
    }
   ],
   "source": [
    "prctg = resultado.mul(100)\n",
    "prctg "
   ]
  },
  {
   "cell_type": "code",
   "execution_count": 62,
   "metadata": {},
   "outputs": [
    {
     "data": {
      "text/html": [
       "<div>\n",
       "<style scoped>\n",
       "    .dataframe tbody tr th:only-of-type {\n",
       "        vertical-align: middle;\n",
       "    }\n",
       "\n",
       "    .dataframe tbody tr th {\n",
       "        vertical-align: top;\n",
       "    }\n",
       "\n",
       "    .dataframe thead th {\n",
       "        text-align: right;\n",
       "    }\n",
       "</style>\n",
       "<table border=\"1\" class=\"dataframe\">\n",
       "  <thead>\n",
       "    <tr style=\"text-align: right;\">\n",
       "      <th></th>\n",
       "      <th>home</th>\n",
       "      <th>shopping</th>\n",
       "      <th>trips</th>\n",
       "      <th>payments</th>\n",
       "      <th>health &amp; beauty</th>\n",
       "      <th>transport</th>\n",
       "      <th>leisure</th>\n",
       "      <th>sum</th>\n",
       "    </tr>\n",
       "  </thead>\n",
       "  <tbody>\n",
       "    <tr>\n",
       "      <th>0</th>\n",
       "      <td>45.86</td>\n",
       "      <td>19.68</td>\n",
       "      <td>17.21</td>\n",
       "      <td>9.09</td>\n",
       "      <td>4.37</td>\n",
       "      <td>3.80</td>\n",
       "      <td>3.31</td>\n",
       "      <td>100.0</td>\n",
       "    </tr>\n",
       "    <tr>\n",
       "      <th>1</th>\n",
       "      <td>46.04</td>\n",
       "      <td>21.73</td>\n",
       "      <td>0.00</td>\n",
       "      <td>21.80</td>\n",
       "      <td>7.14</td>\n",
       "      <td>3.29</td>\n",
       "      <td>9.37</td>\n",
       "      <td>100.0</td>\n",
       "    </tr>\n",
       "    <tr>\n",
       "      <th>2</th>\n",
       "      <td>71.78</td>\n",
       "      <td>15.14</td>\n",
       "      <td>0.00</td>\n",
       "      <td>4.67</td>\n",
       "      <td>6.09</td>\n",
       "      <td>2.31</td>\n",
       "      <td>3.32</td>\n",
       "      <td>100.0</td>\n",
       "    </tr>\n",
       "  </tbody>\n",
       "</table>\n",
       "</div>"
      ],
      "text/plain": [
       "    home   shopping   trips   payments   health & beauty   transport  \\\n",
       "0  45.86      19.68   17.21       9.09              4.37        3.80   \n",
       "1  46.04      21.73    0.00      21.80              7.14        3.29   \n",
       "2  71.78      15.14    0.00       4.67              6.09        2.31   \n",
       "\n",
       "    leisure    sum  \n",
       "0      3.31  100.0  \n",
       "1      9.37  100.0  \n",
       "2      3.32  100.0  "
      ]
     },
     "execution_count": 62,
     "metadata": {},
     "output_type": "execute_result"
    }
   ],
   "source": [
    "redondeado = pd.DataFrame(data = prctg, dtype=float)\n",
    "for column in redondeado:\n",
    "    if column !='sum':\n",
    "        redondeado[column] = redondeado[column].round(2)\n",
    "redondeado"
   ]
  },
  {
   "cell_type": "code",
   "execution_count": 63,
   "metadata": {},
   "outputs": [
    {
     "data": {
      "image/png": "[encoded data removed]",
      "text/plain": [
       "<Figure size 432x288 with 1 Axes>"
      ]
     },
     "metadata": {},
     "output_type": "display_data"
    },
    {
     "data": {
      "image/png": "[encoded data removed]",
      "text/plain": [
       "<Figure size 432x288 with 1 Axes>"
      ]
     },
     "metadata": {},
     "output_type": "display_data"
    },
    {
     "data": {
      "image/png": "[encoded data removed]",
      "text/plain": [
       "<Figure size 432x288 with 1 Axes>"
      ]
     },
     "metadata": {},
     "output_type": "display_data"
    }
   ],
   "source": [
    "data = redondeado.iloc[:,0:-1]\n",
    "for index, row in data.iterrows():\n",
    "    labels = list(row.index)  # Obtener los nombres de las columnas como etiquetas\n",
    "    slices = list(row.values)  # Obtener los valores de la fila como porciones\n",
    "    fig, ax = plt.subplots()\n",
    "    ax.pie(slices, labels=labels, autopct='%1.1f%%', shadow=True)\n",
    "    ax.set_title(f'Monthly expenses {df[\"date\"][index]}')\n",
    "    plt.show()"
   ]
  }
 ],
 "metadata": {
  "kernelspec": {
   "display_name": "Python 3",
   "language": "python",
   "name": "python3"
  },
  "language_info": {
   "codemirror_mode": {
    "name": "ipython",
    "version": 3
   },
   "file_extension": ".py",
   "mimetype": "text/x-python",
   "name": "python",
   "nbconvert_exporter": "python",
   "pygments_lexer": "ipython3",
   "version": "3.10.1"
  }
 },
 "nbformat": 4,
 "nbformat_minor": 2
}
